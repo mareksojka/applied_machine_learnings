{
 "cells": [
  {
   "cell_type": "code",
   "execution_count": null,
   "metadata": {
    "collapsed": true
   },
   "outputs": [],
   "source": [
    "---\n",
    "\n",
    "_You are currently looking at **version 1.0** of this notebook. To download notebooks and datafiles, as well as get help on Jupyter notebooks in the Coursera platform, visit the [Jupyter Notebook FAQ](https://www.coursera.org/learn/python-machine-learning/resources/bANLa) course resource._\n",
    "\n",
    "---"
   ]
  },
  {
   "cell_type": "markdown",
   "metadata": {},
   "source": [
    "## Assignment 4 - Understanding and Predicting Property Maintenance Fines\n",
    "\n",
    "This assignment is based on a data challenge from the Michigan Data Science Team ([MDST](http://midas.umich.edu/mdst/)). \n",
    "\n",
    "The Michigan Data Science Team ([MDST](http://midas.umich.edu/mdst/)) and the Michigan Student Symposium for Interdisciplinary Statistical Sciences ([MSSISS](https://sites.lsa.umich.edu/mssiss/)) have partnered with the City of Detroit to help solve one of the most pressing problems facing Detroit - blight. [Blight violations](http://www.detroitmi.gov/How-Do-I/Report/Blight-Complaint-FAQs) are issued by the city to individuals who allow their properties to remain in a deteriorated condition. Every year, the city of Detroit issues millions of dollars in fines to residents and every year, many of these fines remain unpaid. Enforcing unpaid blight fines is a costly and tedious process, so the city wants to know: how can we increase blight ticket compliance?\n",
    "\n",
    "The first step in answering this question is understanding when and why a resident might fail to comply with a blight ticket. This is where predictive modeling comes in. For this assignment, your task is to predict whether a given blight ticket will be paid on time.\n",
    "\n",
    "All data for this assignment has been provided to us through the [Detroit Open Data Portal](https://data.detroitmi.gov/). **Only the data already included in your Coursera directory can be used for training the model for this assignment.** Nonetheless, we encourage you to look into data from other Detroit datasets to help inform feature creation and model selection. We recommend taking a look at the following related datasets:\n",
    "\n",
    "* [Building Permits](https://data.detroitmi.gov/Property-Parcels/Building-Permits/xw2a-a7tf)\n",
    "* [Trades Permits](https://data.detroitmi.gov/Property-Parcels/Trades-Permits/635b-dsgv)\n",
    "* [Improve Detroit: Submitted Issues](https://data.detroitmi.gov/Government/Improve-Detroit-Submitted-Issues/fwz3-w3yn)\n",
    "* [DPD: Citizen Complaints](https://data.detroitmi.gov/Public-Safety/DPD-Citizen-Complaints-2016/kahe-efs3)\n",
    "* [Parcel Map](https://data.detroitmi.gov/Property-Parcels/Parcel-Map/fxkw-udwf)\n",
    "\n",
    "___\n",
    "\n",
    "We provide you with two data files for use in training and validating your models: train.csv and test.csv. Each row in these two files corresponds to a single blight ticket, and includes information about when, why, and to whom each ticket was issued. The target variable is compliance, which is True if the ticket was paid early, on time, or within one month of the hearing data, False if the ticket was paid after the hearing date or not at all, and Null if the violator was found not responsible. Compliance, as well as a handful of other variables that will not be available at test-time, are only included in train.csv.\n",
    "\n",
    "Note: All tickets where the violators were found not responsible are not considered during evaluation. They are included in the training set as an additional source of data for visualization, and to enable unsupervised and semi-supervised approaches. However, they are not included in the test set.\n",
    "\n",
    "<br>\n",
    "\n",
    "**File descriptions** (Use only this data for training your model!)\n",
    "\n",
    "    train.csv - the training set (all tickets issued 2004-2011)\n",
    "    test.csv - the test set (all tickets issued 2012-2016)\n",
    "    addresses.csv & latlons.csv - mapping from ticket id to addresses, and from addresses to lat/lon coordinates. \n",
    "     Note: misspelled addresses may be incorrectly geolocated.\n",
    "\n",
    "<br>\n",
    "\n",
    "**Data fields**\n",
    "\n",
    "train.csv & test.csv\n",
    "\n",
    "    ticket_id - unique identifier for tickets\n",
    "    agency_name - Agency that issued the ticket\n",
    "    inspector_name - Name of inspector that issued the ticket\n",
    "    violator_name - Name of the person/organization that the ticket was issued to\n",
    "    violation_street_number, violation_street_name, violation_zip_code - Address where the violation occurred\n",
    "    mailing_address_str_number, mailing_address_str_name, city, state, zip_code, non_us_str_code, country - Mailing address of the violator\n",
    "    ticket_issued_date - Date and time the ticket was issued\n",
    "    hearing_date - Date and time the violator's hearing was scheduled\n",
    "    violation_code, violation_description - Type of violation\n",
    "    disposition - Judgment and judgement type\n",
    "    fine_amount - Violation fine amount, excluding fees\n",
    "    admin_fee - $20 fee assigned to responsible judgments\n",
    "state_fee - $10 fee assigned to responsible judgments\n",
    "    late_fee - 10% fee assigned to responsible judgments\n",
    "    discount_amount - discount applied, if any\n",
    "    clean_up_cost - DPW clean-up or graffiti removal cost\n",
    "    judgment_amount - Sum of all fines and fees\n",
    "    grafitti_status - Flag for graffiti violations\n",
    "    \n",
    "train.csv only\n",
    "\n",
    "    payment_amount - Amount paid, if any\n",
    "    payment_date - Date payment was made, if it was received\n",
    "    payment_status - Current payment status as of Feb 1 2017\n",
    "    balance_due - Fines and fees still owed\n",
    "    collection_status - Flag for payments in collections\n",
    "    compliance [target variable for prediction] \n",
    "     Null = Not responsible\n",
    "     0 = Responsible, non-compliant\n",
    "     1 = Responsible, compliant\n",
    "    compliance_detail - More information on why each ticket was marked compliant or non-compliant\n",
    "\n",
    "\n",
    "___\n",
    "\n",
    "## Evaluation\n",
    "\n",
    "Your predictions will be given as the probability that the corresponding blight ticket will be paid on time.\n",
    "\n",
    "The evaluation metric for this assignment is the Area Under the ROC Curve (AUC). \n",
    "\n",
    "Your grade will be based on the AUC score computed for your classifier. A model which with an AUROC of 0.7 passes this assignment, over 0.75 will recieve full points.\n",
    "___\n",
    "\n",
    "For this assignment, create a function that trains a model to predict blight ticket compliance in Detroit using `train.csv`. Using this model, return a series of length 61001 with the data being the probability that each corresponding ticket from `test.csv` will be paid, and the index being the ticket_id.\n",
    "\n",
    "Example:\n",
    "\n",
    "    ticket_id\n",
    "       284932    0.531842\n",
    "       285362    0.401958\n",
    "       285361    0.105928\n",
    "       285338    0.018572\n",
    "                 ...\n",
    "       376499    0.208567\n",
    "       376500    0.818759\n",
    "       369851    0.018528\n",
    "       Name: compliance, dtype: float32"
   ]
  },
  {
   "cell_type": "code",
   "execution_count": 1,
   "metadata": {
    "collapsed": false
   },
   "outputs": [],
   "source": [
    "import pandas as pd\n",
    "import numpy as np\n",
    "from sklearn.model_selection import train_test_split\n",
    "from sklearn.preprocessing import StandardScaler\n",
    "from sklearn.preprocessing import LabelEncoder\n",
    "from sklearn.neural_network import MLPClassifier\n",
    "\n",
    "\n",
    "def blight_model():\n",
    "    #loading datasets\n",
    "    train=pd.read_csv('train.csv',encoding = 'ISO-8859-1' )\n",
    "    test=pd.read_csv('test.csv')\n",
    "           \n",
    "    #cleaning features from data   \n",
    "    #droping rows, where label is null, usually due to status \"not responsible by disposition\"\n",
    "    train.dropna(axis=0,subset=['compliance'],inplace=True)\n",
    "    \n",
    "    #\n",
    "    \n",
    "    #transforming text columns to labels\n",
    "    le=LabelEncoder()\n",
    "    colnames=['agency_name','inspector_name','violator_name','violation_description','disposition','grafitti_status','violation_code']\n",
    "    train[colnames]=train[colnames].fillna(value='unknown')\n",
    "    test[colnames]=test[colnames].fillna(value='unknown')\n",
    "    traintest=pd.concat([train,test])\n",
    "    le.fit(trainrtest['agency_name'])\n",
    "    train['agency_name']=le.transform(train['agency_name'])\n",
    "    test['agency_name']=le.transform(test['agency_name'])\n",
    "    le.fit(traintest['inspector_name'])\n",
    "    train['inspector_name']=le.transform(train['inspector_name'])\n",
    "    test['inspector_name']=le.transform(test['inspector_name'])\n",
    "    le.fit(traintest['violator_name'])\n",
    "    train['violator_name']=le.transform(train['violator_name'])\n",
    "    test['violator_name']=le.transform(test['violator_name'])\n",
    "    le.fit(traintest['violation_description'])\n",
    "    train['violation_description']=le.transform(train['violation_description'])\n",
    "    test['violation_description']=le.transform(test['violation_description'])\n",
    "    le.fit(traintest['disposition'])\n",
    "    train['disposition']=le.transform(train['disposition'])\n",
    "    test['disposition']=le.transform(test['disposition'])\n",
    "    le.fit(traintest['grafitti_status'])\n",
    "    train['grafitti_status']=le.transform(train['grafitti_status'])\n",
    "    test['grafitti_status']=le.transform(test['grafitti_status'])\n",
    "    le.fit(traintest['violation_code'])\n",
    "    train['violation_code']=le.transform(train['violation_code'])\n",
    "    test['violation_code']=le.transform(test['violation_code'])\n",
    "    \n",
    "    #spliting dates to single features\n",
    "    train['ticket_issued_date']=pd.to_datetime(train['ticket_issued_date']).fillna(method='ffill')\n",
    "    train['hearing_date']=pd.to_datetime(train['hearing_date']).fillna(method='ffill')\n",
    "    test['ticket_issued_date']=pd.to_datetime(test['ticket_issued_date']).fillna(method='ffill')\n",
    "    test['hearing_date']=pd.to_datetime(test['hearing_date']).fillna(method='ffill')\n",
    "    train['ticket_hour']=train['ticket_issued_date'].apply(lambda x :x.hour)\n",
    "    train['hearing_hour']=train['hearing_date'].apply(lambda x :x.hour)\n",
    "    test['ticket_hour']=test['ticket_issued_date'].apply(lambda x :x.hour)\n",
    "    test['hearing_hour']=test['hearing_date'].apply(lambda x :x.hour)\n",
    "    train['ticket_issued_date']=train['ticket_issued_date'].apply(lambda x :x.toordinal())\n",
    "    train['hearing_date']=train['hearing_date'].apply(lambda x :x.toordinal())\n",
    "    test['ticket_issued_date']=test['ticket_issued_date'].apply(lambda x :x.toordinal())\n",
    "    test['hearing_date']=test['hearing_date'].apply(lambda x :x.toordinal())\n",
    "    \n",
    "    \n",
    "    #transofrming address to lat lon    \n",
    "    latlon=pd.read_csv('latlons.csv')\n",
    "    address=pd.read_csv('addresses.csv')\n",
    "    latlon.dropna(axis=0,inplace=True)\n",
    "    addlatlon=address.merge(latlon,how='inner',on='address')\n",
    "    addlatlon.drop('address',axis=1,inplace=True)\n",
    "    train.drop(['violation_street_number', 'violation_street_name', 'violation_zip_code'],axis=1,inplace=True)\n",
    "    test.drop(['violation_street_number', 'violation_street_name', 'violation_zip_code'],axis=1,inplace=True)\n",
    "    train=train.merge(addlatlon, how='left',on='ticket_id')\n",
    "    test=test.merge(addlatlon,how='left',on='ticket_id')\n",
    "    train[['lat','lon']]=train[['lat','lon']].fillna(value=0)\n",
    "    \n",
    "    #droping mailing address\n",
    "    mailing=['mailing_address_str_number', 'mailing_address_str_name', 'city','state', 'zip_code', 'non_us_str_code', 'country']\n",
    "    train.drop(mailing,axis=1,inplace=True)\n",
    "    test.drop(mailing,axis=1,inplace=True)\n",
    "    \n",
    "    #extracting label from dateset\n",
    "    y_train=train['compliance']\n",
    "    #preparing answer series with name and indexes\n",
    "    answer=pd.Series(index=test['ticket_id'],dtype='float32',name='compliance')\n",
    "    #droping features unavailable in test data\n",
    "    train.drop(['payment_amount','payment_date','payment_status','balance_due','collection_status','compliance','compliance_detail'],axis=1,inplace=True)\n",
    "    \n",
    "    \n",
    "    scaler = StandardScaler()\n",
    "    X_train_scaled = scaler.fit_transform(train)\n",
    "    X_test_scaled = scaler.transform(test)\n",
    "    \n",
    "\n",
    "    \n",
    "    \n",
    "    clf = MLPClassifier(hidden_layer_sizes = [10, 10], alpha = 5.0,\n",
    "                   random_state = 0, solver='lbfgs').fit(X_train_scaled, y_train)\n",
    "    proba_test=clf.predict_proba(X_test_scaled)\n",
    "    answer[:]=proba_test[:,1]\n",
    "    \n",
    "    return answer"
   ]
  },
  {
   "cell_type": "code",
   "execution_count": 2,
   "metadata": {
    "collapsed": false
   },
   "outputs": [
    {
     "name": "stderr",
     "output_type": "stream",
     "text": [
      "/opt/conda/lib/python3.5/site-packages/IPython/core/interactiveshell.py:2717: DtypeWarning: Columns (11,12,31) have mixed types. Specify dtype option on import or set low_memory=False.\n",
      "  interactivity=interactivity, compiler=compiler, result=result)\n"
     ]
    }
   ],
   "source": [
    "train=pd.read_csv('train.csv',encoding = 'ISO-8859-1' )\n",
    "test=pd.read_csv('test.csv')"
   ]
  },
  {
   "cell_type": "code",
   "execution_count": 3,
   "metadata": {
    "collapsed": true
   },
   "outputs": [],
   "source": [
    "#droping rows, where label is null, usually due to status \"not responsible by disposition\"\n",
    "train.dropna(axis=0,subset=['compliance'],inplace=True)"
   ]
  },
  {
   "cell_type": "code",
   "execution_count": 4,
   "metadata": {
    "collapsed": false
   },
   "outputs": [],
   "source": [
    "#transforming text columns to labels\n",
    "le=LabelEncoder()\n",
    "colnames=['agency_name','inspector_name','violator_name','violation_description','disposition','grafitti_status','violation_code']\n",
    "train[colnames]=train[colnames].fillna(value='unknown')\n",
    "test[colnames]=test[colnames].fillna(value='unknown')\n",
    "traintest=pd.concat([train,test])\n",
    "le.fit(traintest['agency_name'])\n",
    "train['agency_name']=le.transform(train['agency_name'])\n",
    "test['agency_name']=le.transform(test['agency_name'])\n",
    "le.fit(traintest['inspector_name'])\n",
    "train['inspector_name']=le.transform(train['inspector_name'])\n",
    "test['inspector_name']=le.transform(test['inspector_name'])\n",
    "le.fit(traintest['violator_name'])\n",
    "train['violator_name']=le.transform(train['violator_name'])\n",
    "test['violator_name']=le.transform(test['violator_name'])\n",
    "le.fit(traintest['violation_description'])\n",
    "train['violation_description']=le.transform(train['violation_description'])\n",
    "test['violation_description']=le.transform(test['violation_description'])\n",
    "le.fit(traintest['disposition'])\n",
    "train['disposition']=le.transform(train['disposition'])\n",
    "test['disposition']=le.transform(test['disposition'])\n",
    "le.fit(traintest['grafitti_status'])\n",
    "train['grafitti_status']=le.transform(train['grafitti_status'])\n",
    "test['grafitti_status']=le.transform(test['grafitti_status'])\n",
    "le.fit(traintest['violation_code'])\n",
    "train['violation_code']=le.transform(train['violation_code'])\n",
    "test['violation_code']=le.transform(test['violation_code'])"
   ]
  },
  {
   "cell_type": "code",
   "execution_count": null,
   "metadata": {
    "collapsed": false
   },
   "outputs": [],
   "source": [
    "test.head(3)"
   ]
  },
  {
   "cell_type": "code",
   "execution_count": null,
   "metadata": {
    "collapsed": false
   },
   "outputs": [],
   "source": [
    "train.head(3)"
   ]
  },
  {
   "cell_type": "code",
   "execution_count": 5,
   "metadata": {
    "collapsed": false
   },
   "outputs": [],
   "source": [
    "#spliting dates to single features\n",
    "train['ticket_issued_date']=pd.to_datetime(train['ticket_issued_date']).fillna(method='ffill')\n",
    "train['hearing_date']=pd.to_datetime(train['hearing_date']).fillna(method='ffill')\n",
    "test['ticket_issued_date']=pd.to_datetime(test['ticket_issued_date']).fillna(method='ffill')\n",
    "test['hearing_date']=pd.to_datetime(test['hearing_date']).fillna(method='ffill')\n",
    "train['ticket_hour']=train['ticket_issued_date'].apply(lambda x :x.hour)\n",
    "train['hearing_hour']=train['hearing_date'].apply(lambda x :x.hour)\n",
    "test['ticket_hour']=test['ticket_issued_date'].apply(lambda x :x.hour)\n",
    "test['hearing_hour']=test['hearing_date'].apply(lambda x :x.hour)\n",
    "train['ticket_issued_date']=train['ticket_issued_date'].apply(lambda x :x.toordinal())\n",
    "train['hearing_date']=train['hearing_date'].apply(lambda x :x.toordinal())\n",
    "test['ticket_issued_date']=test['ticket_issued_date'].apply(lambda x :x.toordinal())\n",
    "test['hearing_date']=test['hearing_date'].apply(lambda x :x.toordinal())"
   ]
  },
  {
   "cell_type": "code",
   "execution_count": 6,
   "metadata": {
    "collapsed": true
   },
   "outputs": [],
   "source": [
    "latlon=pd.read_csv('latlons.csv')\n",
    "address=pd.read_csv('addresses.csv')\n",
    "latlon.dropna(axis=0,inplace=True)\n",
    "addlatlon=address.merge(latlon,how='inner',on='address')\n",
    "addlatlon.drop('address',axis=1,inplace=True)\n",
    "train.drop(['violation_street_number', 'violation_street_name', 'violation_zip_code'],axis=1,inplace=True)\n",
    "test.drop(['violation_street_number', 'violation_street_name', 'violation_zip_code'],axis=1,inplace=True)\n",
    "train=train.merge(addlatlon, how='left',on='ticket_id')\n",
    "test=test.merge(addlatlon,how='left',on='ticket_id')\n",
    "train[['lat','lon']]=train[['lat','lon']].fillna(value=0)\n",
    "test[['lat','lon']]=test[['lat','lon']].fillna(value=0)"
   ]
  },
  {
   "cell_type": "code",
   "execution_count": 7,
   "metadata": {
    "collapsed": true
   },
   "outputs": [],
   "source": [
    "mailing=['mailing_address_str_number', 'mailing_address_str_name', 'city','state', 'zip_code', 'non_us_str_code', 'country']\n",
    "train.drop(mailing,axis=1,inplace=True)\n",
    "test.drop(mailing,axis=1,inplace=True)"
   ]
  },
  {
   "cell_type": "code",
   "execution_count": 8,
   "metadata": {
    "collapsed": false
   },
   "outputs": [],
   "source": [
    "#extracting label from dateset\n",
    "y_train=train['compliance']\n",
    "#preparing answer series with name and indexes\n",
    "answer=pd.Series(index=test['ticket_id'],dtype='float32',name='compliance')\n",
    "#droping features unavailable in test data\n",
    "train.drop(['payment_amount','payment_date','payment_status','balance_due','collection_status','compliance','compliance_detail'],axis=1,inplace=True)\n",
    "    "
   ]
  },
  {
   "cell_type": "code",
   "execution_count": 9,
   "metadata": {
    "collapsed": false
   },
   "outputs": [],
   "source": [
    "scaler = StandardScaler()\n",
    "X_train_scaled = scaler.fit_transform(train)\n",
    "X_test_scaled = scaler.transform(test)"
   ]
  },
  {
   "cell_type": "code",
   "execution_count": 10,
   "metadata": {
    "collapsed": true
   },
   "outputs": [],
   "source": [
    "clf = MLPClassifier(hidden_layer_sizes = [10, 10], alpha = 5.0,\n",
    "                   random_state = 0, solver='lbfgs').fit(X_train_scaled, y_train)"
   ]
  },
  {
   "cell_type": "code",
   "execution_count": 36,
   "metadata": {
    "collapsed": true
   },
   "outputs": [],
   "source": [
    "proba_test=clf.predict_proba(X_test_scaled)"
   ]
  },
  {
   "cell_type": "code",
   "execution_count": 33,
   "metadata": {
    "collapsed": true
   },
   "outputs": [],
   "source": [
    "answer=pd.Series(index=test['ticket_id'],dtype='float32',name='compliance')"
   ]
  },
  {
   "cell_type": "code",
   "execution_count": 28,
   "metadata": {
    "collapsed": false
   },
   "outputs": [
    {
     "data": {
      "text/plain": [
       "array([ 0.,  1.])"
      ]
     },
     "execution_count": 28,
     "metadata": {},
     "output_type": "execute_result"
    }
   ],
   "source": [
    "clf.classes_"
   ]
  },
  {
   "cell_type": "code",
   "execution_count": 37,
   "metadata": {
    "collapsed": false
   },
   "outputs": [],
   "source": [
    "answer[:]=proba_test[:,1]"
   ]
  },
  {
   "cell_type": "code",
   "execution_count": 38,
   "metadata": {
    "collapsed": false
   },
   "outputs": [
    {
     "data": {
      "text/plain": [
       "ticket_id\n",
       "284932    0.068890\n",
       "285362    0.011227\n",
       "285361    0.065141\n",
       "285338    0.033121\n",
       "285346    0.097434\n",
       "Name: compliance, dtype: float64"
      ]
     },
     "execution_count": 38,
     "metadata": {},
     "output_type": "execute_result"
    }
   ],
   "source": [
    "answer.head(5)"
   ]
  },
  {
   "cell_type": "code",
   "execution_count": null,
   "metadata": {
    "collapsed": true
   },
   "outputs": [],
   "source": [
    "test[['lat','lon']]=test[['lat','lon']].fillna(value=0)"
   ]
  },
  {
   "cell_type": "code",
   "execution_count": null,
   "metadata": {
    "collapsed": false
   },
   "outputs": [],
   "source": [
    "test.isnull().any()"
   ]
  },
  {
   "cell_type": "code",
   "execution_count": null,
   "metadata": {
    "collapsed": false
   },
   "outputs": [],
   "source": [
    "train.dtypes"
   ]
  },
  {
   "cell_type": "code",
   "execution_count": null,
   "metadata": {
    "collapsed": false
   },
   "outputs": [],
   "source": [
    "address.head(5)"
   ]
  },
  {
   "cell_type": "code",
   "execution_count": null,
   "metadata": {
    "collapsed": false
   },
   "outputs": [],
   "source": [
    "address.loc[address['address']=='2900 tyler, Detroit MI']"
   ]
  },
  {
   "cell_type": "code",
   "execution_count": null,
   "metadata": {
    "collapsed": false
   },
   "outputs": [],
   "source": [
    "address.loc[address['address']=='2900 tyler, Detroit MI']['ticket_id'].as_matrix()"
   ]
  },
  {
   "cell_type": "code",
   "execution_count": null,
   "metadata": {
    "collapsed": false
   },
   "outputs": [],
   "source": [
    "address.loc[address['ticket_id']==285530 ]['address'].iloc[0]"
   ]
  },
  {
   "cell_type": "code",
   "execution_count": null,
   "metadata": {
    "collapsed": false
   },
   "outputs": [],
   "source": [
    "lat=latlon.loc[latlon['address']=='2900 tyler, Detroit MI']['lat'].iloc[0]\n",
    "lat"
   ]
  },
  {
   "cell_type": "code",
   "execution_count": null,
   "metadata": {
    "collapsed": false
   },
   "outputs": [],
   "source": [
    "latlon.head(5)"
   ]
  },
  {
   "cell_type": "code",
   "execution_count": null,
   "metadata": {
    "collapsed": false
   },
   "outputs": [],
   "source": [
    "from sklearn.decomposition import PCA\n",
    "from sklearn.preprocessing import StandardScaler\n",
    "pca = PCA(n_components=1)\n",
    "latlon.dropna(axis=0,inplace=True)\n",
    "scaler = StandardScaler()\n",
    "\n",
    "X_PCA=latlon[['lat','lon']].as_matrix()\n",
    "X_PCA_scaled = scaler.fit_transform(X_PCA)\n",
    "llpca=pca.fit_transform(X_PCA)\n",
    "llpca"
   ]
  },
  {
   "cell_type": "code",
   "execution_count": null,
   "metadata": {
    "collapsed": false
   },
   "outputs": [],
   "source": [
    "addlatlon=address.merge(latlon,how='inner',on='address')"
   ]
  },
  {
   "cell_type": "code",
   "execution_count": null,
   "metadata": {
    "collapsed": false
   },
   "outputs": [],
   "source": [
    "addlatlon.head(5)"
   ]
  },
  {
   "cell_type": "code",
   "execution_count": null,
   "metadata": {
    "collapsed": false
   },
   "outputs": [],
   "source": [
    "train[train['ticket_id']==28204]"
   ]
  },
  {
   "cell_type": "code",
   "execution_count": null,
   "metadata": {
    "collapsed": false
   },
   "outputs": [],
   "source": [
    "train.head(5)"
   ]
  },
  {
   "cell_type": "code",
   "execution_count": null,
   "metadata": {
    "collapsed": false
   },
   "outputs": [],
   "source": [
    "train.dropna(axis=0,subset=['compliance']).head(5)"
   ]
  },
  {
   "cell_type": "code",
   "execution_count": null,
   "metadata": {
    "collapsed": false
   },
   "outputs": [],
   "source": [
    "train[train['grafitti_status'].notnull()]"
   ]
  },
  {
   "cell_type": "code",
   "execution_count": null,
   "metadata": {
    "collapsed": true
   },
   "outputs": [],
   "source": [
    "test=pd.read_csv('test.csv')"
   ]
  },
  {
   "cell_type": "code",
   "execution_count": null,
   "metadata": {
    "collapsed": false
   },
   "outputs": [],
   "source": [
    "test.head(10)"
   ]
  },
  {
   "cell_type": "code",
   "execution_count": null,
   "metadata": {
    "collapsed": false
   },
   "outputs": [],
   "source": [
    "train.drop(['violation_street_number', 'violation_street_name', 'violation_zip_code'],axis=1,inplace=True)\n",
    "train=train.merge(addlatlon, how='left',on='ticket_id')\n",
    "train.head(5)"
   ]
  },
  {
   "cell_type": "code",
   "execution_count": null,
   "metadata": {
    "collapsed": false
   },
   "outputs": [],
   "source": [
    "le=LabelEncoder()\n",
    "train['agency_name']=le.fit_transform(train['agency_name'])\n",
    "train.head(5)"
   ]
  },
  {
   "cell_type": "code",
   "execution_count": null,
   "metadata": {
    "collapsed": false
   },
   "outputs": [],
   "source": [
    "train['agency_name'].unique()"
   ]
  },
  {
   "cell_type": "code",
   "execution_count": null,
   "metadata": {
    "collapsed": false
   },
   "outputs": [],
   "source": [
    "train.shape"
   ]
  },
  {
   "cell_type": "code",
   "execution_count": null,
   "metadata": {
    "collapsed": false
   },
   "outputs": [],
   "source": [
    "test.shape"
   ]
  },
  {
   "cell_type": "code",
   "execution_count": null,
   "metadata": {
    "collapsed": false
   },
   "outputs": [],
   "source": [
    "train['violator_name']=train[train['violator_name'].isnull()]['violator_name']='unknown'"
   ]
  },
  {
   "cell_type": "code",
   "execution_count": null,
   "metadata": {
    "collapsed": false
   },
   "outputs": [],
   "source": [
    "train[train['violator_name'].isnull()]"
   ]
  },
  {
   "cell_type": "code",
   "execution_count": null,
   "metadata": {
    "collapsed": true
   },
   "outputs": [],
   "source": [
    "colnames=['agency_name','inspector_name','violator_name','violation_description','disposition','grafitti_status']\n",
    "train[colnames]=train[colnames].fillna(value='unknown')\n",
    "test[colnames]=test[colnames].fillna(value='unknown')"
   ]
  },
  {
   "cell_type": "code",
   "execution_count": null,
   "metadata": {
    "collapsed": false
   },
   "outputs": [],
   "source": [
    "train[train['grafitti_status'].isnull()]"
   ]
  },
  {
   "cell_type": "code",
   "execution_count": null,
   "metadata": {
    "collapsed": false
   },
   "outputs": [],
   "source": [
    "int(str(test['ticket_issued_date'].iloc[0]).split()[1].split(sep=\":\")[0])"
   ]
  },
  {
   "cell_type": "code",
   "execution_count": null,
   "metadata": {
    "collapsed": false
   },
   "outputs": [],
   "source": [
    "traintest['judgment_amount'].isnull().any()"
   ]
  }
 ],
 "metadata": {
  "coursera": {
   "course_slug": "python-machine-learning",
   "graded_item_id": "nNS8l",
   "launcher_item_id": "yWWk7",
   "part_id": "w8BSS"
  },
  "kernelspec": {
   "display_name": "Python 3",
   "language": "python",
   "name": "python3"
  },
  "language_info": {
   "codemirror_mode": {
    "name": "ipython",
    "version": 3
   },
   "file_extension": ".py",
   "mimetype": "text/x-python",
   "name": "python",
   "nbconvert_exporter": "python",
   "pygments_lexer": "ipython3",
   "version": "3.5.2"
  }
 },
 "nbformat": 4,
 "nbformat_minor": 2
}
